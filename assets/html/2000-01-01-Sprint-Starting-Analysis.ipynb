{
 "cells": [
  {
   "cell_type": "markdown",
   "metadata": {},
   "source": [
    "# 2000-01-01 - Sprint Starting Analysis"
   ]
  },
  {
   "cell_type": "markdown",
   "metadata": {
    "toc": true
   },
   "source": [
    "<h1>Table of Contents<span class=\"tocSkip\"></span></h1>\n",
    "<div class=\"toc\"><ul class=\"toc-item\"><li><span><a href=\"#Assumptions\" data-toc-modified-id=\"Assumptions-1\"><span class=\"toc-item-num\">1&nbsp;&nbsp;</span>Assumptions</a></span></li><li><span><a href=\"#Budget-Analysis\" data-toc-modified-id=\"Budget-Analysis-2\"><span class=\"toc-item-num\">2&nbsp;&nbsp;</span>Budget Analysis</a></span><ul class=\"toc-item\"><li><span><a href=\"#Beginning-of-Sprint-Budget-Summary\" data-toc-modified-id=\"Beginning-of-Sprint-Budget-Summary-2.1\"><span class=\"toc-item-num\">2.1&nbsp;&nbsp;</span>Beginning of Sprint Budget Summary</a></span></li></ul></li><li><span><a href=\"#Story-Point-Analysis\" data-toc-modified-id=\"Story-Point-Analysis-3\"><span class=\"toc-item-num\">3&nbsp;&nbsp;</span>Story Point Analysis</a></span><ul class=\"toc-item\"><li><span><a href=\"#Sprint-User-Story-and-Point-Summary\" data-toc-modified-id=\"Sprint-User-Story-and-Point-Summary-3.1\"><span class=\"toc-item-num\">3.1&nbsp;&nbsp;</span>Sprint User Story and Point Summary</a></span></li><li><span><a href=\"#Distribution-of-User-Stories-and-User-Story-Points-by-Type\" data-toc-modified-id=\"Distribution-of-User-Stories-and-User-Story-Points-by-Type-3.2\"><span class=\"toc-item-num\">3.2&nbsp;&nbsp;</span>Distribution of User Stories and User Story Points by Type</a></span></li><li><span><a href=\"#Distribution-of-User-Story-Points-by-Size\" data-toc-modified-id=\"Distribution-of-User-Story-Points-by-Size-3.3\"><span class=\"toc-item-num\">3.3&nbsp;&nbsp;</span>Distribution of User Story Points by Size</a></span></li><li><span><a href=\"#Least-and-Greatest-Story-Point-Items\" data-toc-modified-id=\"Least-and-Greatest-Story-Point-Items-3.4\"><span class=\"toc-item-num\">3.4&nbsp;&nbsp;</span>Least and Greatest Story Point Items</a></span><ul class=\"toc-item\"><li><span><a href=\"#User-Stories-Assigned-Zero-Points\" data-toc-modified-id=\"User-Stories-Assigned-Zero-Points-3.4.1\"><span class=\"toc-item-num\">3.4.1&nbsp;&nbsp;</span>User Stories Assigned Zero Points</a></span></li><li><span><a href=\"#User-Stories-Assigned-the-Greatest-Story-Point-Values\" data-toc-modified-id=\"User-Stories-Assigned-the-Greatest-Story-Point-Values-3.4.2\"><span class=\"toc-item-num\">3.4.2&nbsp;&nbsp;</span>User Stories Assigned the Greatest Story Point Values</a></span></li></ul></li><li><span><a href=\"#User-Story-Rollover-Distribution\" data-toc-modified-id=\"User-Story-Rollover-Distribution-3.5\"><span class=\"toc-item-num\">3.5&nbsp;&nbsp;</span>User Story Rollover Distribution</a></span></li><li><span><a href=\"#Most-Rolled-Over-User-Stories\" data-toc-modified-id=\"Most-Rolled-Over-User-Stories-3.6\"><span class=\"toc-item-num\">3.6&nbsp;&nbsp;</span>Most Rolled Over User Stories</a></span></li><li><span><a href=\"#User-Story-Point-Statistics\" data-toc-modified-id=\"User-Story-Point-Statistics-3.7\"><span class=\"toc-item-num\">3.7&nbsp;&nbsp;</span>User Story Point Statistics</a></span><ul class=\"toc-item\"><li><span><a href=\"#Descriptive-Statistics\" data-toc-modified-id=\"Descriptive-Statistics-3.7.1\"><span class=\"toc-item-num\">3.7.1&nbsp;&nbsp;</span>Descriptive Statistics</a></span></li><li><span><a href=\"#Box-Plot\" data-toc-modified-id=\"Box-Plot-3.7.2\"><span class=\"toc-item-num\">3.7.2&nbsp;&nbsp;</span>Box Plot</a></span></li></ul></li></ul></li></ul></div>"
   ]
  },
  {
   "cell_type": "markdown",
   "metadata": {},
   "source": [
    "## Assumptions\n",
    "\n",
    "* Labor costs are $50/hour\n",
    "* A JIRA 'task' item is classified the same as a JIRA 'story' item\n",
    "* There are six productive working hours in the day\n",
    "* A sprint's duration is two weeks\n",
    "* There are 60 hours of productive working time total in a sprint\n",
    "* There are 10 story points per developer per sprint"
   ]
  },
  {
   "cell_type": "code",
   "execution_count": 1,
   "metadata": {},
   "outputs": [],
   "source": [
    "### ETL ### "
   ]
  },
  {
   "cell_type": "code",
   "execution_count": 19,
   "metadata": {},
   "outputs": [],
   "source": [
    "## IMPORTS AND NOTEBOOK CONFIG ##\n",
    "\n",
    "import pandas as pd\n",
    "from pandas import set_option\n",
    "\n",
    "import matplotlib as mpl\n",
    "from matplotlib import pyplot as plt\n",
    "from matplotlib.ticker import FormatStrFormatter\n",
    "\n",
    "import numpy as np\n",
    "\n",
    "import math\n",
    "\n",
    "from IPython.core.display import display, HTML\n",
    "\n",
    "%matplotlib inline"
   ]
  },
  {
   "cell_type": "code",
   "execution_count": 3,
   "metadata": {},
   "outputs": [],
   "source": [
    "##  HELPER FUNCTIONS  ##\n",
    "\n",
    "summary = pd.DataFrame()\n",
    "\n",
    "# Helper getter function\n",
    "def get(index, column = ''):\n",
    "    if (column == ''):\n",
    "        column = sprint\n",
    "        \n",
    "    return summary.loc[index, column]\n",
    "\n",
    "# Helper setter function\n",
    "def put(index, value, column = ''):  \n",
    "    if (column == ''):\n",
    "        column = sprint\n",
    "        \n",
    "    summary.loc[index, column] = value\n",
    "    return summary.loc[index, column]\n",
    "\n",
    "\n",
    "# Helper function to add values above the bar graph elements\n",
    "def autolabel(rects, ax):\n",
    "    # Get y-axis height to calculate label position from.\n",
    "    (y_bottom, y_top) = ax.get_ylim()\n",
    "    y_height = y_top - y_bottom\n",
    "\n",
    "    for rect in rects:\n",
    "        height = rect.get_height()\n",
    "\n",
    "        # Fraction of axis height taken up by this rectangle\n",
    "        p_height = (height / y_height)\n",
    "\n",
    "        # If we can fit the label above the column, do that;\n",
    "        # otherwise, put it inside the column.\n",
    "        if p_height > 0.95: # arbitrary; 95% looked good to me.\n",
    "            label_position = height - (y_height * 0.05)\n",
    "        else:\n",
    "            label_position = height + (y_height * 0.01)\n",
    "\n",
    "        ax.text(rect.get_x() + rect.get_width()/2., label_position,\n",
    "                '%d' % int(height),\n",
    "                ha='center', va='bottom')\n",
    "        \n",
    "\n",
    "# Helper fuction to return hyperlink \n",
    "def makeStoryLink(val, url = 'http://example.com/browse/'):\n",
    "    url = url + val\n",
    "    return '<a href=\"{}\">{}</a>'.format(url,val)"
   ]
  },
  {
   "cell_type": "code",
   "execution_count": 4,
   "metadata": {},
   "outputs": [],
   "source": [
    "##  DEFINE VARIABLES  ##\n",
    "\n",
    "# Define sprint label\n",
    "sprint = '2000-01-01'\n",
    "\n",
    "# Define summary container\n",
    "summary = pd.DataFrame(index = [\n",
    "    # These come from the velocity worksheet\n",
    "    'laborCostPerHour',\n",
    "    'hoursPerSprint',\n",
    "    'pointsPerSprint',\n",
    "    'totalResourceCount',\n",
    "    'totalResourceHours',\n",
    "    \n",
    "    # Total number of jira items\n",
    "    'totalStartingItemCount',\n",
    "    # Total number of jira items by type\n",
    "    'totalStartingStoryCount',\n",
    "    'totalStartingSpikeCount',\n",
    "    'totalStartingBugCount',\n",
    "    # Number of items by type / total number of items\n",
    "    'totalStartingStoryCountRatio',\n",
    "    'totalStartingSpikeCountRatio',\n",
    "    'totalStartingBugCountRatio',\n",
    "    \n",
    "    # Total number of story points\n",
    "    'totalStartingItemPoints',\n",
    "    # Total number of story points by type\n",
    "    'totalStartingStoryPoints',\n",
    "    'totalStartingSpikePoints',\n",
    "    'totalStartingBugPoints',\n",
    "    # Number of story points by type / total number of story points\n",
    "    'totalStartingStoryPointsRatio',\n",
    "    'totalStartingSpikePointsRatio',\n",
    "    'totalStartingBugPointsRatio',\n",
    "    \n",
    "    # Descriptive stats on story points\n",
    "    'totalStartingMean',\n",
    "    'totalStartingStd',\n",
    "    'totalStartingMin',\n",
    "    'totalStartingMax',\n",
    "    \n",
    "    ### Budgeting items\n",
    "    # Budget at complete\n",
    "    'BAC',\n",
    "    # Stories less bugs\n",
    "    'APV', \n",
    "    'APVRatio',\n",
    "    # Total costs for this sprint per story point\n",
    "    'totalStartingCostPerPoint',\n",
    "    # Cost of story points by type\n",
    "    'totalStartingStoryValue',\n",
    "    'totalStartingSpikeValue',\n",
    "    'totalStartingBugValue',\n",
    "    # Cost of story points by type / total cost all story points\n",
    "    'totalStartingStoryCostRatio',\n",
    "    'totalStartingSpikeCostRatio',\n",
    "    'totalStartingBugCostRatio',\n",
    "     \n",
    "    # Sprint roll over stats\n",
    "    'totalStartingRolloverCount',\n",
    "    'rollOverCountMean',\n",
    "    'rollOverCountStd',\n",
    "    'rollOverCountMin',\n",
    "    'rollOverCountMax',\n",
    "    \n",
    "    # Warning limit for number of times a story point can be rolled over from sprint to sprint\n",
    "    'rollOverThreshold',\n",
    "    \n",
    "    # Warning limit for story point size\n",
    "    'storyPointSizeWarningThreshold'\n",
    "])\n",
    "\n",
    "pass;"
   ]
  },
  {
   "cell_type": "code",
   "execution_count": 29,
   "metadata": {},
   "outputs": [],
   "source": [
    "##  LOAD THE DATA AND SET VALUES  ##\n",
    "\n",
    "# Init the summary container\n",
    "summary[sprint] = np.nan\n",
    "\n",
    "# Load the beginning sprint data\n",
    "df = pd.read_csv('./' + sprint + '-anon.csv')\n",
    "\n",
    "# Define sprint values as outlined in our assumptions section \n",
    "# above for the calculations below\n",
    "put('laborCostPerHour', 50)\n",
    "put('hoursPerSprint', 60)\n",
    "put('pointsPerSprint', 10)\n",
    "put('rollOverThreshold', 2)\n",
    "put ('storyPointSizeWarningThreshold', 8)\n",
    "put('totalResourceCount', 10)\n",
    "\n",
    "pass;"
   ]
  },
  {
   "cell_type": "code",
   "execution_count": 17,
   "metadata": {
    "scrolled": false
   },
   "outputs": [],
   "source": [
    "##  DATA PROCESSING AND FEATURE CREATION  ##\n",
    "\n",
    "# Calulate total resource hours\n",
    "put('totalResourceHours', get('totalResourceCount') * get('hoursPerSprint'))\n",
    "\n",
    "# Cacluate cost per story point\n",
    "put('totalStartingCostPerPoint', \n",
    "    (get('hoursPerSprint') / get('pointsPerSprint') ) \n",
    "    * get('laborCostPerHour'))\n",
    "\n",
    "# Record total number of JIRA items in the sprint\n",
    "put('totalStartingItemCount', df.shape[0])\n",
    "\n",
    "# Record total starting story points in the sprint\n",
    "put('totalStartingItemPoints', df['Story Points'].sum());\n",
    "\n",
    "# Merge Tasks and Stories\n",
    "df.loc[df.Type == 'Task', 'Type'] = 'Story'\n",
    "\n",
    "# Add $ values to each item\n",
    "df['Cost'] = (df['Story Points'] * get('totalStartingCostPerPoint'))\n",
    "\n",
    "# BAC and cost ratios for each item\n",
    "put('BAC', np.sum(df['Cost']))\n",
    "df['Cost Ratio'] = df['Cost'].values / get('BAC') * 100\n",
    "\n",
    "# Story point ratio\n",
    "df['Story Point Ratio'] = df['Story Points'].values / get('totalStartingItemPoints') * 100\n",
    "\n",
    "# Total number of items to item type ratios\n",
    "for item in ['Story', 'Spike', 'Bug']:\n",
    "    put('totalStarting'+item+'CountRatio', df.groupby('Type').size()[item]\n",
    "       / get('totalStartingItemCount') * 100)  \n",
    "\n",
    "# Desc. stats on story points\n",
    "stats = df['Story Points'].describe()\n",
    "for stat in ['mean', 'std', 'min', 'max']:\n",
    "    put('totalStarting' + stat.capitalize(), stats[stat])\n",
    "\n",
    "# Type count and story point sums\n",
    "for item in ['Story', 'Spike', 'Bug']:\n",
    "    put('totalStarting' + item + 'Count', df.groupby('Type').size()[item])\n",
    "    put('totalStarting' + item + 'Points', df.groupby('Type')['Story Points'].sum()[item])\n",
    "\n",
    "# Type story point ratios\n",
    "for item in ['Story', 'Spike', 'Bug']:\n",
    "    put('totalStarting' + item + 'PointsRatio', df.groupby('Type')['Story Points'].size()[item] \n",
    "        / get('totalStartingItemPoints') * 100)\n",
    "\n",
    "# Type values\n",
    "for item in ['Story', 'Spike', 'Bug']:\n",
    "    put('totalStarting'+item+'Value', \n",
    "        (df.groupby('Type')[['Cost']].sum()).loc[item][0])\n",
    "\n",
    "    \n",
    "# Type cost ratios\n",
    "for item in ['Story', 'Spike', 'Bug']:\n",
    "    put('totalStarting'+item+'CostRatio', \n",
    "        (df.groupby('Type')[['Cost Ratio']].sum()).loc[item][0])\n",
    "    \n",
    "\n",
    "# Sprint roll overs\n",
    "rollCount = [len(x.split(',')) - 1 for x in df['Sprint'].values ]\n",
    "df['rollOverCount'] = [len(x.split(',')) - 1 for x in df['Sprint'].values ]\n",
    "\n",
    "put('totalStartingRolloverCount', df[ df['rollOverCount'] > 0].groupby('rollOverCount').size().sum())\n",
    "\n",
    "stats = df['rollOverCount'].describe()\n",
    "for stat in ['mean', 'std', 'min', 'max']:\n",
    "    put('rollOverCount' + stat.capitalize(), stats[stat])\n",
    "\n",
    "# Calculate APV and APAV ratio\n",
    "put('APV', get('totalStartingStoryValue') + get('totalStartingSpikeValue'))\n",
    "put('APVRatio', (get('APV')/get('BAC'))*100)\n",
    "\n",
    "# Record features for future time series reporting and analysis\n",
    "# summary.to_csv('./' + sprint +'-etc.csv', )\n",
    "\n",
    "pass;\n",
    "\n",
    "# Uncomment to view the summary dataframe object\n",
    "#summary"
   ]
  },
  {
   "cell_type": "markdown",
   "metadata": {},
   "source": [
    "#### <br/>"
   ]
  },
  {
   "cell_type": "markdown",
   "metadata": {},
   "source": [
    "## Budget Analysis"
   ]
  },
  {
   "cell_type": "markdown",
   "metadata": {},
   "source": [
    "<br/>"
   ]
  },
  {
   "cell_type": "markdown",
   "metadata": {},
   "source": [
    "### Beginning of Sprint Budget Summary"
   ]
  },
  {
   "cell_type": "code",
   "execution_count": 21,
   "metadata": {},
   "outputs": [
    {
     "data": {
      "text/html": [
       "<table border=\"1\" class=\"dataframe\">\n",
       "  <thead>\n",
       "    <tr style=\"text-align: right;\">\n",
       "      <th>Budget Item</th>\n",
       "      <th>Total</th>\n",
       "      <th>Ratio</th>\n",
       "      <th>Item Count</th>\n",
       "    </tr>\n",
       "  </thead>\n",
       "  <tbody>\n",
       "    <tr>\n",
       "      <td>Planned Development</td>\n",
       "      <td>$35,700.00</td>\n",
       "      <td>74.38%</td>\n",
       "      <td>21</td>\n",
       "    </tr>\n",
       "    <tr>\n",
       "      <td>Planned Tech Debt / Support</td>\n",
       "      <td>$12,300.00</td>\n",
       "      <td>25.62%</td>\n",
       "      <td>12</td>\n",
       "    </tr>\n",
       "    <tr>\n",
       "      <td>Total Sprint Budget</td>\n",
       "      <td>$48,000.00</td>\n",
       "      <td>100%</td>\n",
       "      <td>33</td>\n",
       "    </tr>\n",
       "    <tr>\n",
       "      <td></td>\n",
       "      <td></td>\n",
       "      <td></td>\n",
       "      <td></td>\n",
       "    </tr>\n",
       "    <tr>\n",
       "      <td>Cost per Story Point</td>\n",
       "      <td>$300.00</td>\n",
       "      <td></td>\n",
       "      <td></td>\n",
       "    </tr>\n",
       "  </tbody>\n",
       "</table>"
      ],
      "text/plain": [
       "<IPython.core.display.HTML object>"
      ]
     },
     "metadata": {},
     "output_type": "display_data"
    }
   ],
   "source": [
    "pd.set_option('precision', 2)\n",
    "\n",
    "budget = pd.DataFrame( columns = ['Budget Item', 'Total', 'Ratio', 'Item Count'])\n",
    "row = [\n",
    "    [\n",
    "        'Planned Development', \n",
    "        '${:,.2f}'.format(get('APV')), \n",
    "        '{:,.2f}%'.format(get('APVRatio')), \n",
    "        get('totalStartingStoryCount') + get('totalStartingSpikeCount')\n",
    "    ]\n",
    "    ,[\n",
    "        'Planned Tech Debt / Support', \n",
    "        '${:,.2f}'.format(get('totalStartingBugValue')), \n",
    "        '{:,.2f}%'.format(get('totalStartingBugCostRatio')), \n",
    "        get('totalStartingBugCount')\n",
    "    ]\n",
    "    ,[\n",
    "        'Total Sprint Budget', \n",
    "        '${:,.2f}'.format(get('BAC')), \n",
    "        '100%', \n",
    "        get('totalStartingStoryCount') + get('totalStartingSpikeCount') + get('totalStartingBugCount')\n",
    "    ]\n",
    "    ,['', '', '', '']\n",
    "    ,['Cost per Story Point', '${:,.2f}'.format(get('totalStartingCostPerPoint')), '', '']\n",
    "]\n",
    "\n",
    "for r in row:\n",
    "    budget.loc[len(budget)] = r\n",
    "\n",
    "display(HTML(budget.to_html(index=False)))"
   ]
  },
  {
   "cell_type": "markdown",
   "metadata": {},
   "source": [
    "<br/>"
   ]
  },
  {
   "cell_type": "markdown",
   "metadata": {},
   "source": [
    "## Story Point Analysis"
   ]
  },
  {
   "cell_type": "markdown",
   "metadata": {},
   "source": [
    "<br/>"
   ]
  },
  {
   "cell_type": "markdown",
   "metadata": {},
   "source": [
    "### Sprint User Story and Point Summary"
   ]
  },
  {
   "cell_type": "markdown",
   "metadata": {},
   "source": [
    "<br/>"
   ]
  },
  {
   "cell_type": "code",
   "execution_count": 20,
   "metadata": {},
   "outputs": [
    {
     "data": {
      "text/html": [
       "<table border=\"1\" class=\"dataframe\">\n",
       "  <thead>\n",
       "    <tr style=\"text-align: right;\">\n",
       "      <th>Item</th>\n",
       "      <th>Value</th>\n",
       "    </tr>\n",
       "  </thead>\n",
       "  <tbody>\n",
       "    <tr>\n",
       "      <td>Total Number of Stories</td>\n",
       "      <td>33</td>\n",
       "    </tr>\n",
       "    <tr>\n",
       "      <td>Total Number of Story Points</td>\n",
       "      <td>160</td>\n",
       "    </tr>\n",
       "  </tbody>\n",
       "</table>"
      ],
      "text/plain": [
       "<IPython.core.display.HTML object>"
      ]
     },
     "metadata": {},
     "output_type": "display_data"
    }
   ],
   "source": [
    "pd.set_option('precision', 0)\n",
    "\n",
    "items = pd.DataFrame( columns = ['Item', 'Value'])\n",
    "rows = [\n",
    "    ['Total Number of Stories', get('totalStartingItemCount')]\n",
    "    ,['Total Number of Story Points', get('totalStartingItemPoints')]\n",
    "]\n",
    "\n",
    "for r in rows:\n",
    "    items.loc[len(items)] = r\n",
    "\n",
    "display(HTML(items.to_html(index=False)))"
   ]
  },
  {
   "cell_type": "markdown",
   "metadata": {},
   "source": [
    "<br/>"
   ]
  },
  {
   "cell_type": "markdown",
   "metadata": {},
   "source": [
    "### Distribution of User Stories and User Story Points by Type"
   ]
  },
  {
   "cell_type": "code",
   "execution_count": 22,
   "metadata": {
    "scrolled": false
   },
   "outputs": [
    {
     "data": {
      "image/png": "[encoded data removed]",
      "text/plain": [
       "<Figure size 792x360 with 2 Axes>"
      ]
     },
     "metadata": {
      "needs_background": "light"
     },
     "output_type": "display_data"
    }
   ],
   "source": [
    "# Setup params for displaying the two subplots\n",
    "plt.rcParams.update({'font.size': 12})\n",
    "plt.figure(num=None, figsize=(11, 5))\n",
    "plt.subplots_adjust(wspace=.55)\n",
    "\n",
    "\n",
    "####\n",
    "# Distribution of Sprint Items by Type graph\n",
    "\n",
    "# Define plotting area for the figure\n",
    "ax = plt.subplot(1, 2, 1)\n",
    "\n",
    "# Instantiate and configure the graph\n",
    "x = np.arange(len(df.groupby('Type')['Key']))\n",
    "y = list(df.groupby('Type')['Key'].count())\n",
    "ax.set_ylim([0,np.max(y) + 5])\n",
    "\n",
    "\n",
    "# Labels, ticks, and titles\n",
    "plt.xlabel('JIRA Item Type')\n",
    "plt.ylabel('Number of Items')\n",
    "plt.title('Distribution of Sprint Items by Type', fontsize=16)\n",
    "\n",
    "xLabels = df.groupby('Type')['Key'].count().index\n",
    "plt.xticks(x, xLabels)\n",
    "ax.yaxis.set_major_formatter(plt.NullFormatter())\n",
    "ax.tick_params(axis=u'both', which=u'both',length=0)\n",
    "\n",
    "# Create the bar graph\n",
    "bars = plt.bar(x, y, color = 'steelblue', alpha=0.7)\n",
    "plt.bar(x[0], y[0], color = 'lightcoral', alpha = 0.7)\n",
    "\n",
    "# Draw the value for each bar above it\n",
    "autolabel(bars, plt.gca())\n",
    "\n",
    "# Remove figure outline\n",
    "plt.box(False)\n",
    "\n",
    "\n",
    "####\n",
    "# Distribution of Story Points by Type graph\n",
    "\n",
    "# Define plotting area\n",
    "ax = plt.subplot(1, 2, 2)\n",
    "\n",
    "# Instantiate and configure the graph\n",
    "x = np.arange(len(df.groupby('Type')['Story Points']))\n",
    "y = list(df.groupby('Type')['Story Points'].sum())\n",
    "ax.set_ylim([0,np.max(y) + 15])\n",
    "\n",
    "# Labels, ticks, and titles\n",
    "plt.xlabel('JIRA Item Type')\n",
    "plt.ylabel('Number of Story Points')\n",
    "plt.title('Distribution of Story Points by Type', fontsize = 16)\n",
    "\n",
    "ax.yaxis.set_major_formatter(plt.NullFormatter())\n",
    "ax.tick_params(axis = u'both', which = u'both',length = 0)\n",
    "xLabels = df.groupby('Type')['Story Points'].sum().index\n",
    "plt.xticks(x, xLabels);\n",
    "\n",
    "# Create the bar graph\n",
    "bars = plt.bar(x, y, color = 'steelblue', alpha=0.7)\n",
    "plt.bar(x[0], y[0], color = 'lightcoral', alpha = 0.7)\n",
    "\n",
    "# Draw the value for each bar above it\n",
    "autolabel(bars, plt.gca())\n",
    "\n",
    "# Remove figure outline\n",
    "plt.box(False)"
   ]
  },
  {
   "cell_type": "markdown",
   "metadata": {},
   "source": [
    "<br/>"
   ]
  },
  {
   "cell_type": "markdown",
   "metadata": {},
   "source": [
    "### Distribution of User Story Points by Size"
   ]
  },
  {
   "cell_type": "code",
   "execution_count": 23,
   "metadata": {},
   "outputs": [
    {
     "data": {
      "image/png": "[encoded data removed]",
      "text/plain": [
       "<Figure size 648x360 with 1 Axes>"
      ]
     },
     "metadata": {
      "needs_background": "light"
     },
     "output_type": "display_data"
    }
   ],
   "source": [
    "# Distribution of Sprint Items by Story Point Size graph\n",
    "\n",
    "# Gather data set for the graph\n",
    "tmp = df.groupby('Story Points').size()\n",
    "\n",
    "# Graph settings\n",
    "plt.figure(num=None, figsize=(9, 5))\n",
    "plt.subplots_adjust(wspace = .75)\n",
    "\n",
    "# Define plotting area\n",
    "ax = plt.subplot(1, 1, 1)\n",
    "\n",
    "# Instantiate and configure the graph\n",
    "x = np.arange(len(list(tmp.index)))\n",
    "y = tmp.values\n",
    "ax.set_ylim([0,np.max(y) + 5])\n",
    "\n",
    "# Labels, ticks, and titles\n",
    "plt.xlabel('Story Point Size')\n",
    "plt.ylabel('Number JIRA Items')\n",
    "plt.title('Distribution of Sprint Items by Story Point Size', fontsize = 16)\n",
    "\n",
    "ax.yaxis.set_major_formatter(plt.NullFormatter())\n",
    "ax.tick_params(axis = u'both', which = u'both',length = 0)\n",
    "xLabels = list(tmp.index)\n",
    "plt.xticks(x, xLabels);\n",
    "\n",
    "# Create the bar graph\n",
    "bars = plt.bar(x, y, color = 'steelblue', alpha = 0.7)\n",
    "\n",
    "# Draw the value for each bar above it\n",
    "autolabel(bars, plt.gca())\n",
    "\n",
    "# Remove figure outline\n",
    "plt.box(False)\n",
    "\n",
    "# Apply coloring on bars based on story point value\n",
    "mask = tmp.index >= get('storyPointSizeWarningThreshold')\n",
    "plt.bar(x[mask], y[mask], color = 'palegoldenrod', alpha = 0.7);"
   ]
  },
  {
   "cell_type": "markdown",
   "metadata": {},
   "source": [
    "### Least and Greatest Story Point Items"
   ]
  },
  {
   "cell_type": "markdown",
   "metadata": {},
   "source": [
    "<br/>"
   ]
  },
  {
   "cell_type": "markdown",
   "metadata": {},
   "source": [
    "#### User Stories Assigned Zero Points"
   ]
  },
  {
   "cell_type": "code",
   "execution_count": 24,
   "metadata": {
    "scrolled": false
   },
   "outputs": [
    {
     "data": {
      "text/html": [
       "<style  type=\"text/css\" >\n",
       "</style><table id=\"T_66ae3036_cb7c_11ea_a07e_448a5b8502db\" ><thead>    <tr>        <th class=\"col_heading level0 col0\" >Key</th>        <th class=\"col_heading level0 col1\" >Summary</th>        <th class=\"col_heading level0 col2\" >Assignee</th>        <th class=\"col_heading level0 col3\" >Story Points</th>    </tr></thead><tbody>\n",
       "                <tr>\n",
       "                                <td id=\"T_66ae3036_cb7c_11ea_a07e_448a5b8502dbrow0_col0\" class=\"data row0 col0\" ><a href=\"http://example.com/browse/P1-369\">P1-369</a></td>\n",
       "                        <td id=\"T_66ae3036_cb7c_11ea_a07e_448a5b8502dbrow0_col1\" class=\"data row0 col1\" >Donec lacus magnis ornare tincidunt quisque ipsum ve dictumst mauris enim blandit.</td>\n",
       "                        <td id=\"T_66ae3036_cb7c_11ea_a07e_448a5b8502dbrow0_col2\" class=\"data row0 col2\" >Ms. Yellow</td>\n",
       "                        <td id=\"T_66ae3036_cb7c_11ea_a07e_448a5b8502dbrow0_col3\" class=\"data row0 col3\" >0</td>\n",
       "            </tr>\n",
       "            <tr>\n",
       "                                <td id=\"T_66ae3036_cb7c_11ea_a07e_448a5b8502dbrow1_col0\" class=\"data row1 col0\" ><a href=\"http://example.com/browse/P1-291\">P1-291</a></td>\n",
       "                        <td id=\"T_66ae3036_cb7c_11ea_a07e_448a5b8502dbrow1_col1\" class=\"data row1 col1\" >Metus massa.</td>\n",
       "                        <td id=\"T_66ae3036_cb7c_11ea_a07e_448a5b8502dbrow1_col2\" class=\"data row1 col2\" >Mr. Blue</td>\n",
       "                        <td id=\"T_66ae3036_cb7c_11ea_a07e_448a5b8502dbrow1_col3\" class=\"data row1 col3\" >0</td>\n",
       "            </tr>\n",
       "            <tr>\n",
       "                                <td id=\"T_66ae3036_cb7c_11ea_a07e_448a5b8502dbrow2_col0\" class=\"data row2 col0\" ><a href=\"http://example.com/browse/P3-5798\">P3-5798</a></td>\n",
       "                        <td id=\"T_66ae3036_cb7c_11ea_a07e_448a5b8502dbrow2_col1\" class=\"data row2 col1\" >Purus class.</td>\n",
       "                        <td id=\"T_66ae3036_cb7c_11ea_a07e_448a5b8502dbrow2_col2\" class=\"data row2 col2\" >Mr. Green</td>\n",
       "                        <td id=\"T_66ae3036_cb7c_11ea_a07e_448a5b8502dbrow2_col3\" class=\"data row2 col3\" >0</td>\n",
       "            </tr>\n",
       "            <tr>\n",
       "                                <td id=\"T_66ae3036_cb7c_11ea_a07e_448a5b8502dbrow3_col0\" class=\"data row3 col0\" ><a href=\"http://example.com/browse/P3-5748\">P3-5748</a></td>\n",
       "                        <td id=\"T_66ae3036_cb7c_11ea_a07e_448a5b8502dbrow3_col1\" class=\"data row3 col1\" >Purus lorem mattis maecenas parturient luctus at.</td>\n",
       "                        <td id=\"T_66ae3036_cb7c_11ea_a07e_448a5b8502dbrow3_col2\" class=\"data row3 col2\" >Mr. Tan</td>\n",
       "                        <td id=\"T_66ae3036_cb7c_11ea_a07e_448a5b8502dbrow3_col3\" class=\"data row3 col3\" >0</td>\n",
       "            </tr>\n",
       "    </tbody></table>"
      ],
      "text/plain": [
       "<pandas.io.formats.style.Styler at 0x7f78d7907290>"
      ]
     },
     "execution_count": 24,
     "metadata": {},
     "output_type": "execute_result"
    }
   ],
   "source": [
    "(\n",
    "    df.loc[df['Story Points'] == summary.loc['totalStartingMin'][0]]\n",
    "    [['Key', 'Summary', 'Assignee', 'Story Points']]\n",
    "    .style.format({'Key': makeStoryLink})\n",
    ").hide_index()"
   ]
  },
  {
   "cell_type": "markdown",
   "metadata": {},
   "source": [
    "<br/>"
   ]
  },
  {
   "cell_type": "markdown",
   "metadata": {},
   "source": [
    "#### User Stories Assigned the Greatest Story Point Values"
   ]
  },
  {
   "cell_type": "code",
   "execution_count": 25,
   "metadata": {
    "scrolled": true
   },
   "outputs": [
    {
     "data": {
      "text/html": [
       "<style  type=\"text/css\" >\n",
       "</style><table id=\"T_85ee3036_cb7c_11ea_a07e_448a5b8502db\" ><thead>    <tr>        <th class=\"col_heading level0 col0\" >Key</th>        <th class=\"col_heading level0 col1\" >Summary</th>        <th class=\"col_heading level0 col2\" >Assignee</th>        <th class=\"col_heading level0 col3\" >Story Points</th>    </tr></thead><tbody>\n",
       "                <tr>\n",
       "                                <td id=\"T_85ee3036_cb7c_11ea_a07e_448a5b8502dbrow0_col0\" class=\"data row0 col0\" ><a href=\"http://example.com/browse/P3-5803\">P3-5803</a></td>\n",
       "                        <td id=\"T_85ee3036_cb7c_11ea_a07e_448a5b8502dbrow0_col1\" class=\"data row0 col1\" >Class justo semper.</td>\n",
       "                        <td id=\"T_85ee3036_cb7c_11ea_a07e_448a5b8502dbrow0_col2\" class=\"data row0 col2\" >Ms. Aqua</td>\n",
       "                        <td id=\"T_85ee3036_cb7c_11ea_a07e_448a5b8502dbrow0_col3\" class=\"data row0 col3\" >13</td>\n",
       "            </tr>\n",
       "            <tr>\n",
       "                                <td id=\"T_85ee3036_cb7c_11ea_a07e_448a5b8502dbrow1_col0\" class=\"data row1 col0\" ><a href=\"http://example.com/browse/P3-5838\">P3-5838</a></td>\n",
       "                        <td id=\"T_85ee3036_cb7c_11ea_a07e_448a5b8502dbrow1_col1\" class=\"data row1 col1\" >Ipsum porta cursus pellentesque pretium metus.</td>\n",
       "                        <td id=\"T_85ee3036_cb7c_11ea_a07e_448a5b8502dbrow1_col2\" class=\"data row1 col2\" >Mr. Green</td>\n",
       "                        <td id=\"T_85ee3036_cb7c_11ea_a07e_448a5b8502dbrow1_col3\" class=\"data row1 col3\" >8</td>\n",
       "            </tr>\n",
       "            <tr>\n",
       "                                <td id=\"T_85ee3036_cb7c_11ea_a07e_448a5b8502dbrow2_col0\" class=\"data row2 col0\" ><a href=\"http://example.com/browse/P3-5822\">P3-5822</a></td>\n",
       "                        <td id=\"T_85ee3036_cb7c_11ea_a07e_448a5b8502dbrow2_col1\" class=\"data row2 col1\" >Justo velit neque.</td>\n",
       "                        <td id=\"T_85ee3036_cb7c_11ea_a07e_448a5b8502dbrow2_col2\" class=\"data row2 col2\" >Mr. Violet</td>\n",
       "                        <td id=\"T_85ee3036_cb7c_11ea_a07e_448a5b8502dbrow2_col3\" class=\"data row2 col3\" >8</td>\n",
       "            </tr>\n",
       "            <tr>\n",
       "                                <td id=\"T_85ee3036_cb7c_11ea_a07e_448a5b8502dbrow3_col0\" class=\"data row3 col0\" ><a href=\"http://example.com/browse/P3-5820\">P3-5820</a></td>\n",
       "                        <td id=\"T_85ee3036_cb7c_11ea_a07e_448a5b8502dbrow3_col1\" class=\"data row3 col1\" >Morbi massa.</td>\n",
       "                        <td id=\"T_85ee3036_cb7c_11ea_a07e_448a5b8502dbrow3_col2\" class=\"data row3 col2\" >Ms. Yellow</td>\n",
       "                        <td id=\"T_85ee3036_cb7c_11ea_a07e_448a5b8502dbrow3_col3\" class=\"data row3 col3\" >8</td>\n",
       "            </tr>\n",
       "            <tr>\n",
       "                                <td id=\"T_85ee3036_cb7c_11ea_a07e_448a5b8502dbrow4_col0\" class=\"data row4 col0\" ><a href=\"http://example.com/browse/P3-5662\">P3-5662</a></td>\n",
       "                        <td id=\"T_85ee3036_cb7c_11ea_a07e_448a5b8502dbrow4_col1\" class=\"data row4 col1\" >Justo netus hymenaeos sem morbi commodo suscipit mi fames condimentum dictumst ante est.</td>\n",
       "                        <td id=\"T_85ee3036_cb7c_11ea_a07e_448a5b8502dbrow4_col2\" class=\"data row4 col2\" >Mr. Violet</td>\n",
       "                        <td id=\"T_85ee3036_cb7c_11ea_a07e_448a5b8502dbrow4_col3\" class=\"data row4 col3\" >8</td>\n",
       "            </tr>\n",
       "            <tr>\n",
       "                                <td id=\"T_85ee3036_cb7c_11ea_a07e_448a5b8502dbrow5_col0\" class=\"data row5 col0\" ><a href=\"http://example.com/browse/P2-239\">P2-239</a></td>\n",
       "                        <td id=\"T_85ee3036_cb7c_11ea_a07e_448a5b8502dbrow5_col1\" class=\"data row5 col1\" >Justo porta rutrum at auctor justo mi purus mus vitae pretium semper magna nibh cum per viverra tellus.</td>\n",
       "                        <td id=\"T_85ee3036_cb7c_11ea_a07e_448a5b8502dbrow5_col2\" class=\"data row5 col2\" >Ms. Purple</td>\n",
       "                        <td id=\"T_85ee3036_cb7c_11ea_a07e_448a5b8502dbrow5_col3\" class=\"data row5 col3\" >8</td>\n",
       "            </tr>\n",
       "            <tr>\n",
       "                                <td id=\"T_85ee3036_cb7c_11ea_a07e_448a5b8502dbrow6_col0\" class=\"data row6 col0\" ><a href=\"http://example.com/browse/P1-387\">P1-387</a></td>\n",
       "                        <td id=\"T_85ee3036_cb7c_11ea_a07e_448a5b8502dbrow6_col1\" class=\"data row6 col1\" >Vitae magna auctor duis eget cubilia.</td>\n",
       "                        <td id=\"T_85ee3036_cb7c_11ea_a07e_448a5b8502dbrow6_col2\" class=\"data row6 col2\" >Mr. Blue</td>\n",
       "                        <td id=\"T_85ee3036_cb7c_11ea_a07e_448a5b8502dbrow6_col3\" class=\"data row6 col3\" >8</td>\n",
       "            </tr>\n",
       "    </tbody></table>"
      ],
      "text/plain": [
       "<pandas.io.formats.style.Styler at 0x7f78d536ded0>"
      ]
     },
     "execution_count": 25,
     "metadata": {},
     "output_type": "execute_result"
    }
   ],
   "source": [
    "(\n",
    "    df.loc[df['Story Points'] >= get('storyPointSizeWarningThreshold')]\n",
    "        .sort_values(['Story Points', 'Key'], ascending = False)\n",
    "    [['Key', 'Summary', 'Assignee', 'Story Points']]\n",
    "    .style.format({'Key': makeStoryLink})\n",
    ").hide_index()"
   ]
  },
  {
   "cell_type": "markdown",
   "metadata": {},
   "source": [
    "<br/>"
   ]
  },
  {
   "cell_type": "markdown",
   "metadata": {},
   "source": [
    "<br/>"
   ]
  },
  {
   "cell_type": "markdown",
   "metadata": {},
   "source": [
    "### User Story Rollover Distribution"
   ]
  },
  {
   "cell_type": "code",
   "execution_count": 26,
   "metadata": {
    "scrolled": true
   },
   "outputs": [
    {
     "data": {
      "image/png": "[encoded data removed]",
      "text/plain": [
       "<Figure size 648x360 with 1 Axes>"
      ]
     },
     "metadata": {
      "needs_background": "light"
     },
     "output_type": "display_data"
    }
   ],
   "source": [
    "# Distribution of Sprint Items by Rollovers graph\n",
    "\n",
    "# Gather data set for the graph\n",
    "tmp = df[df['rollOverCount'] > 0].groupby('rollOverCount').size()\n",
    "\n",
    "# Graph settings\n",
    "plt.rcParams.update({'font.size': 12})\n",
    "plt.figure(num=None, figsize=(9, 5))\n",
    "plt.subplots_adjust(wspace = .75)\n",
    "\n",
    "# Define plotting area\n",
    "ax = plt.subplot(1, 1, 1)\n",
    "\n",
    "# Instantiate and configure the graph\n",
    "y = tmp.values\n",
    "x = np.arange(len(list(tmp.index)))\n",
    "ax.set_ylim([0,np.max(y) + 5])\n",
    "\n",
    "# Labels, ticks, and titles\n",
    "plt.xlabel('Number of Rollovers')\n",
    "plt.ylabel('Number JIRA Items')\n",
    "plt.title('Distribution of Sprint Items by Number of Times Rolled Over', fontsize = 16)\n",
    "\n",
    "xLabels = list(tmp.index)\n",
    "ax.yaxis.set_major_formatter(plt.NullFormatter())\n",
    "ax.tick_params(axis = u'both', which = u'both',length = 0)\n",
    "plt.xticks(x, xLabels);\n",
    "\n",
    "# Create the bar graph\n",
    "bars = plt.bar(x, y, color = 'steelblue', alpha = 0.7)\n",
    "\n",
    "# Remove figure outline\n",
    "plt.box(False)\n",
    "\n",
    "# Draw the value for each bar above it\n",
    "autolabel(bars, plt.gca())\n",
    "\n",
    "# Apply coloring on bars based on graph values\n",
    "mask = x > get('rollOverThreshold')\n",
    "plt.bar(x[mask], y[mask], color=\"lightcoral\", alpha = .7);"
   ]
  },
  {
   "cell_type": "markdown",
   "metadata": {},
   "source": [
    "<br/>"
   ]
  },
  {
   "cell_type": "markdown",
   "metadata": {},
   "source": [
    "### Most Rolled Over User Stories"
   ]
  },
  {
   "cell_type": "code",
   "execution_count": 27,
   "metadata": {
    "scrolled": false
   },
   "outputs": [
    {
     "data": {
      "text/html": [
       "<style  type=\"text/css\" >\n",
       "</style><table id=\"T_a2578682_cb7c_11ea_a07e_448a5b8502db\" ><thead>    <tr>        <th class=\"col_heading level0 col0\" >Key</th>        <th class=\"col_heading level0 col1\" >Summary</th>        <th class=\"col_heading level0 col2\" >Assignee</th>        <th class=\"col_heading level0 col3\" >Story Points</th>        <th class=\"col_heading level0 col4\" >rollOverCount</th>    </tr></thead><tbody>\n",
       "                <tr>\n",
       "                                <td id=\"T_a2578682_cb7c_11ea_a07e_448a5b8502dbrow0_col0\" class=\"data row0 col0\" ><a href=\"http://example.com/browse/P2-8\">P2-8</a></td>\n",
       "                        <td id=\"T_a2578682_cb7c_11ea_a07e_448a5b8502dbrow0_col1\" class=\"data row0 col1\" >Neque felis ante a netus ve mauris eu taciti senectus felis facilisis.</td>\n",
       "                        <td id=\"T_a2578682_cb7c_11ea_a07e_448a5b8502dbrow0_col2\" class=\"data row0 col2\" >Mr. Tan</td>\n",
       "                        <td id=\"T_a2578682_cb7c_11ea_a07e_448a5b8502dbrow0_col3\" class=\"data row0 col3\" >5</td>\n",
       "                        <td id=\"T_a2578682_cb7c_11ea_a07e_448a5b8502dbrow0_col4\" class=\"data row0 col4\" >15</td>\n",
       "            </tr>\n",
       "            <tr>\n",
       "                                <td id=\"T_a2578682_cb7c_11ea_a07e_448a5b8502dbrow1_col0\" class=\"data row1 col0\" ><a href=\"http://example.com/browse/P3-5748\">P3-5748</a></td>\n",
       "                        <td id=\"T_a2578682_cb7c_11ea_a07e_448a5b8502dbrow1_col1\" class=\"data row1 col1\" >Purus lorem mattis maecenas parturient luctus at.</td>\n",
       "                        <td id=\"T_a2578682_cb7c_11ea_a07e_448a5b8502dbrow1_col2\" class=\"data row1 col2\" >Mr. Tan</td>\n",
       "                        <td id=\"T_a2578682_cb7c_11ea_a07e_448a5b8502dbrow1_col3\" class=\"data row1 col3\" >0</td>\n",
       "                        <td id=\"T_a2578682_cb7c_11ea_a07e_448a5b8502dbrow1_col4\" class=\"data row1 col4\" >7</td>\n",
       "            </tr>\n",
       "            <tr>\n",
       "                                <td id=\"T_a2578682_cb7c_11ea_a07e_448a5b8502dbrow2_col0\" class=\"data row2 col0\" ><a href=\"http://example.com/browse/P3-5662\">P3-5662</a></td>\n",
       "                        <td id=\"T_a2578682_cb7c_11ea_a07e_448a5b8502dbrow2_col1\" class=\"data row2 col1\" >Justo netus hymenaeos sem morbi commodo suscipit mi fames condimentum dictumst ante est.</td>\n",
       "                        <td id=\"T_a2578682_cb7c_11ea_a07e_448a5b8502dbrow2_col2\" class=\"data row2 col2\" >Mr. Violet</td>\n",
       "                        <td id=\"T_a2578682_cb7c_11ea_a07e_448a5b8502dbrow2_col3\" class=\"data row2 col3\" >8</td>\n",
       "                        <td id=\"T_a2578682_cb7c_11ea_a07e_448a5b8502dbrow2_col4\" class=\"data row2 col4\" >6</td>\n",
       "            </tr>\n",
       "            <tr>\n",
       "                                <td id=\"T_a2578682_cb7c_11ea_a07e_448a5b8502dbrow3_col0\" class=\"data row3 col0\" ><a href=\"http://example.com/browse/P3-5677\">P3-5677</a></td>\n",
       "                        <td id=\"T_a2578682_cb7c_11ea_a07e_448a5b8502dbrow3_col1\" class=\"data row3 col1\" >Justo lorem ligula.</td>\n",
       "                        <td id=\"T_a2578682_cb7c_11ea_a07e_448a5b8502dbrow3_col2\" class=\"data row3 col2\" >nan</td>\n",
       "                        <td id=\"T_a2578682_cb7c_11ea_a07e_448a5b8502dbrow3_col3\" class=\"data row3 col3\" >5</td>\n",
       "                        <td id=\"T_a2578682_cb7c_11ea_a07e_448a5b8502dbrow3_col4\" class=\"data row3 col4\" >5</td>\n",
       "            </tr>\n",
       "            <tr>\n",
       "                                <td id=\"T_a2578682_cb7c_11ea_a07e_448a5b8502dbrow4_col0\" class=\"data row4 col0\" ><a href=\"http://example.com/browse/P3-5774\">P3-5774</a></td>\n",
       "                        <td id=\"T_a2578682_cb7c_11ea_a07e_448a5b8502dbrow4_col1\" class=\"data row4 col1\" >Risus massa lectus in ornare est diam vehicula sem cursus.</td>\n",
       "                        <td id=\"T_a2578682_cb7c_11ea_a07e_448a5b8502dbrow4_col2\" class=\"data row4 col2\" >Mr. Tan</td>\n",
       "                        <td id=\"T_a2578682_cb7c_11ea_a07e_448a5b8502dbrow4_col3\" class=\"data row4 col3\" >5</td>\n",
       "                        <td id=\"T_a2578682_cb7c_11ea_a07e_448a5b8502dbrow4_col4\" class=\"data row4 col4\" >4</td>\n",
       "            </tr>\n",
       "    </tbody></table>"
      ],
      "text/plain": [
       "<pandas.io.formats.style.Styler at 0x7f7904153cd0>"
      ]
     },
     "execution_count": 27,
     "metadata": {},
     "output_type": "execute_result"
    }
   ],
   "source": [
    "(\n",
    "    df.loc[df['rollOverCount'] > get('rollOverThreshold')+1]\n",
    "    [['Key', 'Summary', 'Assignee', 'Story Points', 'rollOverCount']]\n",
    "    .sort_values(['rollOverCount'], ascending = False)\n",
    "    .style.format({'Key': makeStoryLink})\n",
    ").hide_index()"
   ]
  },
  {
   "cell_type": "markdown",
   "metadata": {},
   "source": [
    "<br/>"
   ]
  },
  {
   "cell_type": "markdown",
   "metadata": {},
   "source": [
    "\n",
    "### User Story Point Statistics"
   ]
  },
  {
   "cell_type": "markdown",
   "metadata": {},
   "source": [
    "<br/>"
   ]
  },
  {
   "cell_type": "markdown",
   "metadata": {},
   "source": [
    "#### Descriptive Statistics"
   ]
  },
  {
   "cell_type": "code",
   "execution_count": 15,
   "metadata": {},
   "outputs": [
    {
     "data": {
      "text/plain": [
       "count    33.0\n",
       "mean      4.8\n",
       "std       2.8\n",
       "min       0.0\n",
       "25%       3.0\n",
       "50%       5.0\n",
       "75%       5.0\n",
       "max      13.0\n",
       "Name: Story Points, dtype: float64"
      ]
     },
     "execution_count": 15,
     "metadata": {},
     "output_type": "execute_result"
    }
   ],
   "source": [
    "set_option('precision', 1)\n",
    "df['Story Points'].describe()"
   ]
  },
  {
   "cell_type": "markdown",
   "metadata": {},
   "source": [
    "<br/>"
   ]
  },
  {
   "cell_type": "markdown",
   "metadata": {},
   "source": [
    "#### Box Plot"
   ]
  },
  {
   "cell_type": "code",
   "execution_count": 16,
   "metadata": {},
   "outputs": [
    {
     "data": {
      "image/png": "[encoded data removed]",
      "text/plain": [
       "<Figure size 432x432 with 1 Axes>"
      ]
     },
     "metadata": {
      "needs_background": "light"
     },
     "output_type": "display_data"
    }
   ],
   "source": [
    "df['Story Points'].plot(kind=\"box\", figsize = (6,6))\n",
    "plt.show()"
   ]
  },
  {
   "cell_type": "markdown",
   "metadata": {},
   "source": [
    "<br/>"
   ]
  },
  {
   "cell_type": "code",
   "execution_count": null,
   "metadata": {},
   "outputs": [],
   "source": []
  }
 ],
 "metadata": {
  "kernelspec": {
   "display_name": "Python 2",
   "language": "python",
   "name": "python2"
  },
  "language_info": {
   "codemirror_mode": {
    "name": "ipython",
    "version": 2
   },
   "file_extension": ".py",
   "mimetype": "text/x-python",
   "name": "python",
   "nbconvert_exporter": "python",
   "pygments_lexer": "ipython2",
   "version": "2.7.17"
  },
  "toc": {
   "base_numbering": 1,
   "nav_menu": {},
   "number_sections": true,
   "sideBar": true,
   "skip_h1_title": true,
   "title_cell": "Table of Contents",
   "title_sidebar": "Contents",
   "toc_cell": true,
   "toc_position": {},
   "toc_section_display": true,
   "toc_window_display": false
  }
 },
 "nbformat": 4,
 "nbformat_minor": 2
}
